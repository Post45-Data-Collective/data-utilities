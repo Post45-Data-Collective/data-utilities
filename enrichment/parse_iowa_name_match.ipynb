{
 "cells": [
  {
   "attachments": {},
   "cell_type": "markdown",
   "metadata": {},
   "source": [
    "# zzzzz\n",
    "\n",
    "\n"
   ]
  },
  {
   "cell_type": "code",
   "execution_count": null,
   "metadata": {},
   "outputs": [],
   "source": [
    "import pandas as pd\n",
    "import csv\n"
   ]
  },
  {
   "attachments": {},
   "cell_type": "markdown",
   "metadata": {},
   "source": [
    "## Config\n",
    "Set these variables below based on your setup\n",
    "\n",
    "`path_to_tsv` - the path to the TSV file you want to run it on\n",
    "\n",
    "\n",
    "\n",
    "`oclc_classify` - column where oclc_classify xml blob is stored\n",
    "\n"
   ]
  },
  {
   "cell_type": "code",
   "execution_count": null,
   "metadata": {},
   "outputs": [],
   "source": [
    "path_to_tsv = \"/Users/m/Downloads/data-tmp/iowa_writers_workshop-people.tsv\"\n",
    "path_to_tsv2 = \"/Users/m/Downloads/data-tmp/iowa_writers_workshop-hathitrust_metadata.tsv\"\n",
    "\n",
    "\n",
    "# load the hathi people data\n",
    "\n",
    "iowa_hathi = pd.read_csv(path_to_tsv2, sep='\\t', header=0, low_memory=False)\n",
    "names = []\n",
    "\n",
    "for i, row in iowa_hathi.iterrows():\n",
    "    if pd.isnull(row['author_authorized_heading']) == False:\n",
    "        names.append({\n",
    "            'name' : row['author_authorized_heading'],\n",
    "            'lccn' : row['author_lccn'],\n",
    "            'viaf' : row['author_viaf'],\n",
    "            'wiki' : row['wikidata_qid']\n",
    "        })\n",
    "    \n",
    "print(len(names))\n",
    "\n"
   ]
  },
  {
   "cell_type": "code",
   "execution_count": null,
   "metadata": {},
   "outputs": [],
   "source": [
    "def match_name(d):\n",
    "\n",
    "    for x in names:\n",
    "\n",
    "        if x['name'].startswith(d['family_name']):\n",
    "            if d['given_name'] in x['name']:\n",
    "                print(x)\n",
    "                print(d)\n",
    "                print('-----')\n",
    "                d['author_lccn'] = x['lccn']\n",
    "                d['author_wikidata'] = x['wiki']\n",
    "                d['author_viaf'] = x['viaf']\n",
    "                d['author_authorized_heading'] = x['name']\n",
    "    \n",
    "\n",
    "\n",
    "    return d"
   ]
  },
  {
   "cell_type": "code",
   "execution_count": null,
   "metadata": {},
   "outputs": [],
   "source": [
    "df = pd.read_csv(path_to_tsv, sep='\\t', header=0, low_memory=False)\n",
    "\n",
    "df.drop(df.filter(regex=\"Unname\"),axis=1, inplace=True)\n",
    "\n",
    "# run our function over all of them\n",
    "df = df.apply(lambda d: match_name(d),axis=1 )  \n",
    "# # overwrite back out\n",
    "df.to_csv(path_to_tsv, sep='\\t')\n"
   ]
  }
 ],
 "metadata": {
  "kernelspec": {
   "display_name": "Python 3",
   "language": "python",
   "name": "python3"
  },
  "language_info": {
   "codemirror_mode": {
    "name": "ipython",
    "version": 3
   },
   "file_extension": ".py",
   "mimetype": "text/x-python",
   "name": "python",
   "nbconvert_exporter": "python",
   "pygments_lexer": "ipython3",
   "version": "3.9.6"
  },
  "orig_nbformat": 4,
  "vscode": {
   "interpreter": {
    "hash": "31f2aee4e71d21fbe5cf8b01ff0e069b9275f58929596ceb00d14d90e3e16cd6"
   }
  }
 },
 "nbformat": 4,
 "nbformat_minor": 2
}
