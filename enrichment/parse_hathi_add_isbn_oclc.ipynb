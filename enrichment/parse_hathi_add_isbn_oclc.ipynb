{
 "cells": [
  {
   "cell_type": "code",
   "execution_count": null,
   "metadata": {},
   "outputs": [],
   "source": []
  },
  {
   "attachments": {},
   "cell_type": "markdown",
   "metadata": {},
   "source": [
    "# Hathi Parse MARC add ISBN and OCLC\n",
    "\n",
    "This script expects to work on a TSV that has MARC XML in a `hathi_marc` column, likely added by the `download_hathi_marc` script previously. It will add oclc and isbn number from the MARC21 fields 001 and 020 adding `isbn` and `oclc` to the file."
   ]
  },
  {
   "cell_type": "code",
   "execution_count": null,
   "metadata": {},
   "outputs": [],
   "source": [
    "import pandas as pd\n",
    "import pymarc\n",
    "import io\n"
   ]
  },
  {
   "cell_type": "code",
   "execution_count": null,
   "metadata": {},
   "outputs": [],
   "source": [
    "path_to_tsv = \"/Users/m/Downloads/data-tmp/nyt_hardcover_fiction_bestsellers-hathitrust_metadata.tsv\"\n"
   ]
  },
  {
   "cell_type": "code",
   "execution_count": null,
   "metadata": {},
   "outputs": [],
   "source": [
    "def add_auth_name(d):\n",
    "\n",
    "    # do we have some marc data?\n",
    "    if type(d['hathi_marc']) == str:   \n",
    "        # the pymarc library expects a file to open, we don't have files we have strings, \n",
    "        # so make a file like object and put our string into it so we can parse it\n",
    "        with io.StringIO() as f:\n",
    "            f.write(d['hathi_marc'])\n",
    "            f.seek(0)\n",
    "            # parse it, its returns a list of records, but we only have one, so take the 0 index\n",
    "            record = pymarc.marcxml.parse_xml_to_array(f)[0]\n",
    "\n",
    "            if '001' in record:\n",
    "                d['oclc'] = record['001'].value()\n",
    "            if '020' in record:\n",
    "                if 'a' in record['020']:\n",
    "                    i = record['020']['a']\n",
    "                    i = i.split(\"(\")[0].strip()\n",
    "                    i = i.split(\":\")[0].strip()\n",
    "                    d['isbn'] = i\n",
    "\n",
    "    else:\n",
    "        print(\"No MARC data to parse:\",d)\n",
    "\n",
    "    return d"
   ]
  },
  {
   "cell_type": "code",
   "execution_count": null,
   "metadata": {},
   "outputs": [],
   "source": [
    "# load the tsv\n",
    "df = pd.read_csv(path_to_tsv, sep='\\t', header=0, low_memory=False)\n",
    "df.drop(df.filter(regex=\"Unname\"),axis=1, inplace=True)\n",
    "\n",
    "# run our function over all of them\n",
    "df = df.apply(lambda d: add_auth_name(d),axis=1 )  \n",
    "# # overwrite back out\n",
    "df.to_csv(path_to_tsv, sep='\\t')\n",
    "\n"
   ]
  }
 ],
 "metadata": {
  "kernelspec": {
   "display_name": "Python 3",
   "language": "python",
   "name": "python3"
  },
  "language_info": {
   "codemirror_mode": {
    "name": "ipython",
    "version": 3
   },
   "file_extension": ".py",
   "mimetype": "text/x-python",
   "name": "python",
   "nbconvert_exporter": "python",
   "pygments_lexer": "ipython3",
   "version": "3.9.6"
  },
  "orig_nbformat": 4
 },
 "nbformat": 4,
 "nbformat_minor": 2
}
