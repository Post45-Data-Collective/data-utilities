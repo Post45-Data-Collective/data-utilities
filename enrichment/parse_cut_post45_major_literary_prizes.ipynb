{
 "cells": [
  {
   "cell_type": "code",
   "execution_count": null,
   "metadata": {},
   "outputs": [],
   "source": []
  },
  {
   "cell_type": "code",
   "execution_count": null,
   "metadata": {},
   "outputs": [],
   "source": [
    "import pandas as pd\n"
   ]
  },
  {
   "cell_type": "code",
   "execution_count": null,
   "metadata": {},
   "outputs": [],
   "source": [
    "# load the tsv\n",
    "df = pd.read_csv(\"/Users/m/Downloads/data-tmp/major_literary_prizes-hathitrust_metadata.tsv\", sep='\\t', header=0, low_memory=False)\n",
    "df.drop(df.filter(regex=\"Unname\"),axis=1, inplace=True)\n",
    "\n",
    "df.rename(columns={'wikidata_qid': 'author_wikidata_qid'}, inplace=True)\n",
    "# df.rename(columns={'oclc_isbn': 'isbn_most_common_edition'}, inplace=True)\n",
    "\n",
    "df = df.astype({'oclc':'Int64','oclc_holdings':'Int64','oclc_eholdings':'Int64','oclc_owi':'Int64'}, errors='ignore')\n",
    "\n",
    "\n",
    "df_final = df[['person_id', 'author', 'author_authorized_heading', 'author_lccn', 'author_viaf', 'author_wikidata_qid', 'full_name', 'gender', 'given_name', 'hathi_id', 'hathi_rights', 'imprintdate', 'inferreddate', 'last_name', 'oclc', 'oclc_eholdings', 'oclc_holdings', 'oclc_owi', 'shorttitle']]\n",
    "\n",
    "\n",
    "#write out\n",
    "df_final.to_csv(\"/Users/m/Downloads/data-tmp/major_literary_prizes-hathitrust_metadata_final.tsv\", sep='\\t',index=False)\n",
    "\n",
    "\n",
    "\n",
    "\n"
   ]
  }
 ],
 "metadata": {
  "kernelspec": {
   "display_name": "Python 3",
   "language": "python",
   "name": "python3"
  },
  "language_info": {
   "codemirror_mode": {
    "name": "ipython",
    "version": 3
   },
   "file_extension": ".py",
   "mimetype": "text/x-python",
   "name": "python",
   "nbconvert_exporter": "python",
   "pygments_lexer": "ipython3",
   "version": "3.9.6"
  },
  "orig_nbformat": 4
 },
 "nbformat": 4,
 "nbformat_minor": 2
}
