{
 "cells": [
  {
   "attachments": {},
   "cell_type": "markdown",
   "metadata": {},
   "source": [
    "# Parse MARC add Publisher Name\n",
    "\n",
    "This script expects to work on a TSV that has MARC XML in column, It will add `publisher_marc` the full name found in the 260 $b\n"
   ]
  },
  {
   "cell_type": "code",
   "execution_count": null,
   "metadata": {},
   "outputs": [],
   "source": [
    "import pandas as pd\n",
    "import pymarc\n",
    "import io\n"
   ]
  },
  {
   "cell_type": "code",
   "execution_count": null,
   "metadata": {},
   "outputs": [],
   "source": [
    "path_to_tsv = \"/Users/m/Downloads/data-tmp/hathitrust_post45fiction_metadata.tsv\"\n",
    "marc_xml_column = \"hathi_marc\""
   ]
  },
  {
   "cell_type": "code",
   "execution_count": null,
   "metadata": {},
   "outputs": [],
   "source": [
    "def add_auth_name(d):\n",
    "\n",
    "    # do we have some marc data?\n",
    "    if type(d[marc_xml_column]) == str:   \n",
    "        # the pymarc library expects a file to open, we don't have files we have strings, \n",
    "        # so make a file like object and put our string into it so we can parse it\n",
    "        with io.StringIO() as f:\n",
    "            f.write(d[marc_xml_column])\n",
    "            f.seek(0)\n",
    "            # parse it, its returns a list of records, but we only have one, so take the 0 index\n",
    "            record = pymarc.marcxml.parse_xml_to_array(f)[0]\n",
    "\n",
    "            # we'll grab the first contribtuor from the 7xx fields if there is no 1xx author\n",
    "            # there will likely be other 7xx contributor though we are only using the first one which is often the editor\n",
    "            field = None\n",
    "            if '260' in record:\n",
    "                if 'b' in record['260']:\n",
    "                    pub = record['260']['b']\n",
    "                    pub=pub.strip()\n",
    "                    if len(pub) > 3:\n",
    "                        # remove the optional trailing comma on all headings if there\n",
    "                        if pub[-1] == ',':\n",
    "                            pub = pub[:-1]\n",
    "\n",
    "                        d['publisher_marc'] = pub\n",
    "                    else:\n",
    "                        print(pub,'too short')\n",
    "\n",
    "\n",
    "\n",
    "\n",
    "    else:\n",
    "        print(\"No MARC data to parse:\",d)\n",
    "\n",
    "    return d"
   ]
  },
  {
   "cell_type": "code",
   "execution_count": null,
   "metadata": {},
   "outputs": [],
   "source": [
    "# load the tsv\n",
    "df = pd.read_csv(path_to_tsv, sep='\\t', header=0, low_memory=False)\n",
    "df.drop(df.filter(regex=\"Unname\"),axis=1, inplace=True)\n",
    "\n",
    "# run our function over all of them\n",
    "df = df.apply(lambda d: add_auth_name(d),axis=1 )  \n",
    "# # overwrite back out\n",
    "df.to_csv(path_to_tsv, sep='\\t')\n",
    "\n"
   ]
  }
 ],
 "metadata": {
  "kernelspec": {
   "display_name": "Python 3",
   "language": "python",
   "name": "python3"
  },
  "language_info": {
   "codemirror_mode": {
    "name": "ipython",
    "version": 3
   },
   "file_extension": ".py",
   "mimetype": "text/x-python",
   "name": "python",
   "nbconvert_exporter": "python",
   "pygments_lexer": "ipython3",
   "version": "3.9.6"
  },
  "orig_nbformat": 4
 },
 "nbformat": 4,
 "nbformat_minor": 2
}
