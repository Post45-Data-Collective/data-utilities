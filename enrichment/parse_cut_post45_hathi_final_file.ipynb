{
 "cells": [
  {
   "cell_type": "code",
   "execution_count": null,
   "metadata": {},
   "outputs": [],
   "source": []
  },
  {
   "cell_type": "code",
   "execution_count": 5,
   "metadata": {},
   "outputs": [],
   "source": [
    "import pandas as pd\n"
   ]
  },
  {
   "cell_type": "code",
   "execution_count": 6,
   "metadata": {},
   "outputs": [],
   "source": [
    "# load the tsv\n",
    "df = pd.read_csv(\"/Users/m/Downloads/data-tmp/hathitrust_post45fiction_metadata.tsv\", sep='\\t', header=0, low_memory=False)\n",
    "df.drop(df.filter(regex=\"Unname\"),axis=1, inplace=True)\n",
    "\n",
    "df.rename(columns={'wikidata_qid': 'author_wikidata_qid'}, inplace=True)\n",
    "\n",
    "df = df.astype({'oclc':'Int64','oclc_owi':'Int64','oclc_holdings':'Int64','oclc_eholdings':'Int64'}, errors='ignore')\n",
    "\n",
    "\n",
    "# the orignal:\n",
    "# df_final = df[['id', 'docid', 'oldauthor', 'author', 'authordate', 'inferreddate', 'latestcomp', 'datetype', 'startdate', 'enddate', 'imprint', 'imprintdate', 'contents', 'genres', 'subjects', 'geographics', 'locnum', 'oclc', 'place', 'recordid', 'enumcron', 'volnum', 'title', 'parttitle', 'shorttitle', 'instances', 'juvenileprob', 'nonficprob', 'xxxxxxx', 'xxxxxxx', 'xxxxxxx', 'xxxxxxx', 'xxxxxxx']]\n",
    "\n",
    "\n",
    "df_final = df[['id', 'docid', 'author_authorized_heading', 'author_lccn', 'author_wikidata_qid', 'oldauthor', 'author', 'author_marc', 'authordate', 'inferreddate', 'latestcomp', 'datetype', 'startdate', 'enddate', 'imprint', 'imprintdate', 'contents', 'genres', 'subjects', 'geographics', 'locnum', 'oclc', 'oclc_owi', 'oclc_holdings', 'oclc_eholdings', 'isbns', 'wikidata_work_qid',  'place', 'recordid', 'enumcron', 'volnum', 'hathi_rights', 'title', 'parttitle', 'shorttitle', 'instances', 'juvenileprob', 'nonficprob']]\n",
    "\n",
    "\n",
    "#write out\n",
    "df_final.to_csv(\"/Users/m/Downloads/data-tmp/hathitrust_post45fiction_metadata_final.tsv\", sep='\\t',index=False)\n",
    "\n",
    "\n",
    "\n",
    "\n",
    "\n"
   ]
  }
 ],
 "metadata": {
  "kernelspec": {
   "display_name": "Python 3",
   "language": "python",
   "name": "python3"
  },
  "language_info": {
   "codemirror_mode": {
    "name": "ipython",
    "version": 3
   },
   "file_extension": ".py",
   "mimetype": "text/x-python",
   "name": "python",
   "nbconvert_exporter": "python",
   "pygments_lexer": "ipython3",
   "version": "3.9.6"
  },
  "orig_nbformat": 4
 },
 "nbformat": 4,
 "nbformat_minor": 2
}
