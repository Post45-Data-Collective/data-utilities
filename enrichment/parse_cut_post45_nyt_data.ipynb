{
 "cells": [
  {
   "cell_type": "code",
   "execution_count": null,
   "metadata": {},
   "outputs": [],
   "source": []
  },
  {
   "cell_type": "code",
   "execution_count": 1,
   "metadata": {},
   "outputs": [],
   "source": [
    "import pandas as pd\n"
   ]
  },
  {
   "cell_type": "code",
   "execution_count": 2,
   "metadata": {},
   "outputs": [],
   "source": [
    "# load the tsv\n",
    "# df = pd.read_csv(\"/Users/m/Downloads/data-tmp/iowa_writers_workshop-hathitrust_metadata.tsv\", sep='\\t', header=0, low_memory=False)\n",
    "# df.drop(df.filter(regex=\"Unname\"),axis=1, inplace=True)\n",
    "\n",
    "# df.rename(columns={'wikidata_qid': 'author_wikidata_qid'}, inplace=True)\n",
    "# df.rename(columns={'oclc_isbn': 'isbn_most_common_edition'}, inplace=True)\n",
    "\n",
    "# df = df.astype({'oclc_owi':'Int64','oclc_holdings':'Int64','oclc_eholdings':'Int64'}, errors='ignore')\n",
    "\n",
    "\n",
    "# df_final = df[['id','author1','author1_normalized','author2','author3','author4','author_authorized_heading','author_lccn','author_viaf','author_wikidata_qid','date','htid','hathi_rights','title','imprint','isbn','isbn_most_common_edition','lccn','oclc','oclc_owi','oclc_eholdings','oclc_holdings','person_id','place','publisher_marc']]\n",
    "\n",
    "\n",
    "# #write out\n",
    "# df_final.to_csv(\"/Users/m/Downloads/data-tmp/iowa_writers_workshop-hathitrust_metadata_final.tsv\", sep='\\t',index=False)\n",
    "\n",
    "\n",
    "\n",
    "# --------\n",
    "\n",
    "\n",
    "df = pd.read_csv(\"/Users/m/Downloads/data-tmp/nyt_hardcover_fiction_bestsellers-titles.tsv\", sep='\\t', header=0, low_memory=False)\n",
    "df.drop(df.filter(regex=\"Unname\"),axis=1, inplace=True)\n",
    "\n",
    "df = df.astype({'oclc_owi':'Int64','oclc_holdings':'Int64','oclc_eholdings':'Int64'}, errors='ignore')\n",
    "\n",
    "\n",
    "\n",
    "df_final = df[['id','author','author_authorized_heading',\t'author_lccn',\t'author_viaf',\t'author_wikidata',\t'best_rank',\t'debut_rank',\t'first_week',\t'oclc', 'oclc_eholdings',\t'oclc_holdings',\t'oclc_isbn', 'oclc_owi',\t'title',\t'total_weeks',\t'year'   ]]\n",
    "\n",
    "\n",
    "#write out\n",
    "df_final.to_csv(\"/Users/m/Downloads/data-tmp/nyt_hardcover_fiction_bestsellers-titles_final.tsv\", sep='\\t',index=False)\n",
    "\n",
    "\n",
    "# --------\n",
    "\n",
    "\n",
    "\n",
    "\n",
    "\n"
   ]
  }
 ],
 "metadata": {
  "kernelspec": {
   "display_name": "Python 3",
   "language": "python",
   "name": "python3"
  },
  "language_info": {
   "codemirror_mode": {
    "name": "ipython",
    "version": 3
   },
   "file_extension": ".py",
   "mimetype": "text/x-python",
   "name": "python",
   "nbconvert_exporter": "python",
   "pygments_lexer": "ipython3",
   "version": "3.9.6"
  },
  "orig_nbformat": 4
 },
 "nbformat": 4,
 "nbformat_minor": 2
}
