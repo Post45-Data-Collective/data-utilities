{
 "cells": [
  {
   "cell_type": "code",
   "execution_count": null,
   "metadata": {},
   "outputs": [],
   "source": []
  },
  {
   "attachments": {},
   "cell_type": "markdown",
   "metadata": {},
   "source": [
    "# OCLC Parse MARC add Authorized Name\n",
    "\n",
    "This script expects to work on a TSV that has MARC XML in a `oclc_marc` column, likely added by the `download_oclc_marc` script previously. It will add `name_marc` the full name found in the 100, 110 or 111, 700, 710, 711, in the subfield order $a$b$c$q$d$g MARC field.\n"
   ]
  },
  {
   "cell_type": "code",
   "execution_count": null,
   "metadata": {},
   "outputs": [],
   "source": [
    "import pandas as pd\n",
    "import pymarc\n",
    "import io\n"
   ]
  },
  {
   "cell_type": "code",
   "execution_count": null,
   "metadata": {},
   "outputs": [],
   "source": [
    "path_to_tsv = \"/Users/m/Downloads/data-tmp/hathitrust_post45fiction_metadata.tsv\"\n"
   ]
  },
  {
   "cell_type": "code",
   "execution_count": null,
   "metadata": {},
   "outputs": [],
   "source": [
    "def add_auth_name(d):\n",
    "\n",
    "    # do we have some marc data?\n",
    "    if type(d['oclc_marc']) == str:   \n",
    "        # the pymarc library expects a file to open, we don't have files we have strings, \n",
    "        # so make a file like object and put our string into it so we can parse it\n",
    "        with io.StringIO() as f:\n",
    "            f.write(d['oclc_marc'])\n",
    "            f.seek(0)\n",
    "            # parse it, its returns a list of records, but we only have one, so take the 0 index\n",
    "            record = pymarc.marcxml.parse_xml_to_array(f)[0]\n",
    "\n",
    "            # we'll grab the first contribtuor from the 7xx fields if there is no 1xx author\n",
    "            # there will likely be other 7xx contributor though we are only using the first one which is often the editor\n",
    "            field = None\n",
    "            if '100' in record:\n",
    "                field = record['100']\n",
    "            elif '110' in record:\n",
    "                field = record['110']\n",
    "            elif '111' in record:\n",
    "                field = record['111']\n",
    "            elif '700' in record:\n",
    "                field = record['700']\n",
    "            elif '710' in record:\n",
    "                field = record['710']\n",
    "            elif '711' in record:\n",
    "                field = record['711']                                \n",
    "            else:\n",
    "                print(\"No Author found!:\", d['oclc_marc'])\n",
    "                return d\n",
    "\n",
    "            # assbel the heading in the correct order \n",
    "            name = field['a']\n",
    "            if 'b' in field:\n",
    "                name = name + ' ' + field['b']\n",
    "            if 'c' in field:\n",
    "                name = name + ' ' + field['c']\n",
    "            if 'q' in field:\n",
    "                name = name + ' ' + field['q']                  \n",
    "            if 'd' in field:\n",
    "                name = name + ' ' + field['d']   \n",
    "            if 'g' in field:\n",
    "                name = name + ' ' + field['g']   \n",
    " \n",
    "            # have seen empty \"\" 100 fields\n",
    "            if len(name.strip()) == 0:\n",
    "                print(\"No Author found!:\", d['oclc_marc'])\n",
    "                return d\n",
    "\n",
    "            # remove the optional trailing period on all headings if there\n",
    "            if name[-1] == '.':\n",
    "                name = name[:-1]\n",
    "\n",
    "            d['author_marc'] = name\n",
    "\n",
    "    else:\n",
    "        print(\"No MARC data to parse:\",d)\n",
    "\n",
    "    return d"
   ]
  },
  {
   "cell_type": "code",
   "execution_count": null,
   "metadata": {},
   "outputs": [],
   "source": [
    "# load the tsv\n",
    "df = pd.read_csv(path_to_tsv, sep='\\t', header=0, low_memory=False)\n",
    "df.drop(df.filter(regex=\"Unname\"),axis=1, inplace=True)\n",
    "\n",
    "# run our function over all of them\n",
    "df = df.apply(lambda d: add_auth_name(d),axis=1 )  \n",
    "# # overwrite back out\n",
    "df.to_csv(path_to_tsv, sep='\\t')\n",
    "\n"
   ]
  }
 ],
 "metadata": {
  "kernelspec": {
   "display_name": "Python 3",
   "language": "python",
   "name": "python3"
  },
  "language_info": {
   "codemirror_mode": {
    "name": "ipython",
    "version": 3
   },
   "file_extension": ".py",
   "mimetype": "text/x-python",
   "name": "python",
   "nbconvert_exporter": "python",
   "pygments_lexer": "ipython3",
   "version": "3.9.6"
  },
  "orig_nbformat": 4
 },
 "nbformat": 4,
 "nbformat_minor": 2
}
