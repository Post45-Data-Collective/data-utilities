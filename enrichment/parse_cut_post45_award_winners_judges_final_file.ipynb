{
 "cells": [
  {
   "cell_type": "code",
   "execution_count": null,
   "metadata": {},
   "outputs": [],
   "source": []
  },
  {
   "cell_type": "code",
   "execution_count": 7,
   "metadata": {},
   "outputs": [],
   "source": [
    "import pandas as pd\n"
   ]
  },
  {
   "cell_type": "code",
   "execution_count": 8,
   "metadata": {},
   "outputs": [],
   "source": [
    "# load the tsv\n",
    "df = pd.read_csv(\"/Users/m/Downloads/data-tmp/major_literary_prizes-winners_judges.tsv\", sep='\\t', header=0, low_memory=False)\n",
    "df.drop(df.filter(regex=\"Unname\"),axis=1, inplace=True)\n",
    "\n",
    "df_final = df[['person_id', 'full_name', 'given_name', 'last_name', 'author_wikidata', 'author_wikidata_label', 'author_viaf', 'author_lccn', 'gender', 'elite_institution', 'graduate_degree', 'mfa_degree', 'iowa_mfa_person_id', 'stegner', 'role', 'prize_institution', 'prize_name', 'prize_year', 'prize_genre', 'prize_type', 'prize_amount', 'title_of_winning_book']]\n",
    "\n",
    "\n",
    "#write out\n",
    "df_final.to_csv(\"/Users/m/Downloads/data-tmp/major_literary_prizes-winners_judges_final.tsv\", sep='\\t',index=False)\n",
    "\n",
    "\n",
    "\n",
    "\n",
    "\n"
   ]
  }
 ],
 "metadata": {
  "kernelspec": {
   "display_name": "Python 3",
   "language": "python",
   "name": "python3"
  },
  "language_info": {
   "codemirror_mode": {
    "name": "ipython",
    "version": 3
   },
   "file_extension": ".py",
   "mimetype": "text/x-python",
   "name": "python",
   "nbconvert_exporter": "python",
   "pygments_lexer": "ipython3",
   "version": "3.9.6"
  },
  "orig_nbformat": 4
 },
 "nbformat": 4,
 "nbformat_minor": 2
}
