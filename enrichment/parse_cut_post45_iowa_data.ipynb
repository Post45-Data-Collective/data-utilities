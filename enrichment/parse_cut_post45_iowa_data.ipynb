{
 "cells": [
  {
   "cell_type": "code",
   "execution_count": null,
   "metadata": {},
   "outputs": [],
   "source": []
  },
  {
   "cell_type": "code",
   "execution_count": 5,
   "metadata": {},
   "outputs": [],
   "source": [
    "import pandas as pd\n"
   ]
  },
  {
   "cell_type": "code",
   "execution_count": 6,
   "metadata": {},
   "outputs": [],
   "source": [
    "# load the tsv\n",
    "df = pd.read_csv(\"/Users/m/Downloads/data-tmp/iowa_writers_workshop-hathitrust_metadata.tsv\", sep='\\t', header=0, low_memory=False)\n",
    "df.drop(df.filter(regex=\"Unname\"),axis=1, inplace=True)\n",
    "\n",
    "df.rename(columns={'wikidata_qid': 'author_wikidata_qid'}, inplace=True)\n",
    "df.rename(columns={'oclc_isbn': 'isbn_most_common_edition'}, inplace=True)\n",
    "\n",
    "df = df.astype({'oclc_owi':'Int64','oclc_holdings':'Int64','oclc_eholdings':'Int64'}, errors='ignore')\n",
    "\n",
    "\n",
    "df_final = df[['id','author1','author1_normalized','author2','author3','author4','author_authorized_heading','author_lccn','author_viaf','author_wikidata_qid','date','htid','hathi_rights','title','imprint','isbn','isbn_most_common_edition','lccn','oclc','oclc_owi','oclc_eholdings','oclc_holdings','person_id','place','publisher_marc']]\n",
    "\n",
    "\n",
    "#write out\n",
    "df_final.to_csv(\"/Users/m/Downloads/data-tmp/iowa_writers_workshop-hathitrust_metadata_final.tsv\", sep='\\t',index=False)\n",
    "\n",
    "\n",
    "\n",
    "# --------\n",
    "\n",
    "\n",
    "df = pd.read_csv(\"/Users/m/Downloads/data-tmp/iowa_writers_workshop-graduations.tsv\", sep='\\t', header=0, low_memory=False)\n",
    "df.drop(df.filter(regex=\"Unname\"),axis=1, inplace=True)\n",
    "\n",
    "# df.rename(columns={'wikidata_qid': 'author_wikidata_qid'}, inplace=True)\n",
    "# df.rename(columns={'oclc_isbn': 'isbn_most_common_edition'}, inplace=True)\n",
    "\n",
    "df = df.astype({'advisor_id':'Int64'}, errors='ignore')\n",
    "\n",
    "\n",
    "df_final = df[['graduate_id','graduate_name','institution','advisor_id','advisor_name','author_authorized_heading','author_lccn','author_viaf','author_wikidata','degree','genre','program','record_id','thesis_title','year']]\n",
    "\n",
    "\n",
    "#write out\n",
    "df_final.to_csv(\"/Users/m/Downloads/data-tmp/iowa_writers_workshop-graduations_final.tsv\", sep='\\t',index=False)\n",
    "\n",
    "\n",
    "# --------\n",
    "\n",
    "\n",
    "df = pd.read_csv(\"/Users/m/Downloads/data-tmp/iowa_writers_workshop-people.tsv\", sep='\\t', header=0, low_memory=False)\n",
    "df.drop(df.filter(regex=\"Unname\"),axis=1, inplace=True)\n",
    "\n",
    "# df.rename(columns={'wikidata_qid': 'author_wikidata_qid'}, inplace=True)\n",
    "# df.rename(columns={'oclc_isbn': 'isbn_most_common_edition'}, inplace=True)\n",
    "\n",
    "# df = df.astype({'advisor_id':'Int64'}, errors='ignore')\n",
    "\n",
    "\n",
    "df_final = df[['person_id','full_name','family_name','given_name','middle_name','pen_name','gender','country','author_authorized_heading','author_lccn','author_viaf','author_wikidata']]\n",
    "\n",
    "\n",
    "#write out\n",
    "df_final.to_csv(\"/Users/m/Downloads/data-tmp/iowa_writers_workshop-people_final.tsv\", sep='\\t',index=False)\n",
    "\n",
    "\n",
    "\n",
    "\n",
    "\n"
   ]
  }
 ],
 "metadata": {
  "kernelspec": {
   "display_name": "Python 3",
   "language": "python",
   "name": "python3"
  },
  "language_info": {
   "codemirror_mode": {
    "name": "ipython",
    "version": 3
   },
   "file_extension": ".py",
   "mimetype": "text/x-python",
   "name": "python",
   "nbconvert_exporter": "python",
   "pygments_lexer": "ipython3",
   "version": "3.9.6"
  },
  "orig_nbformat": 4
 },
 "nbformat": 4,
 "nbformat_minor": 2
}
