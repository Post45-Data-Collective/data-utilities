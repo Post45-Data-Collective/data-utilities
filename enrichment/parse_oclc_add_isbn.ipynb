{
 "cells": [
  {
   "cell_type": "code",
   "execution_count": null,
   "metadata": {},
   "outputs": [],
   "source": []
  },
  {
   "attachments": {},
   "cell_type": "markdown",
   "metadata": {},
   "source": [
    "# OCLC Parse MARC add ISBN\n",
    "\n",
    "\n"
   ]
  },
  {
   "cell_type": "code",
   "execution_count": 9,
   "metadata": {},
   "outputs": [],
   "source": [
    "import pandas as pd\n",
    "import pymarc\n",
    "import io\n"
   ]
  },
  {
   "cell_type": "code",
   "execution_count": 10,
   "metadata": {},
   "outputs": [],
   "source": [
    "path_to_tsv = \"/Users/m/Downloads/data-tmp/iowa_writers_workshop-hathitrust_metadata.tsv\"\n",
    "isbn = 'isbns'"
   ]
  },
  {
   "cell_type": "code",
   "execution_count": 11,
   "metadata": {},
   "outputs": [],
   "source": [
    "def add_auth_name(d):\n",
    "\n",
    "    # add checks here\n",
    "    if pd.isnull(d[isbn]) == False:\n",
    "        return d\n",
    "\n",
    "    # do we have some marc data?\n",
    "    if type(d['oclc_marc']) == str:   \n",
    "        # the pymarc library expects a file to open, we don't have files we have strings, \n",
    "        # so make a file like object and put our string into it so we can parse it\n",
    "        with io.StringIO() as f:\n",
    "            f.write(d['oclc_marc'])\n",
    "            f.seek(0)\n",
    "            # parse it, its returns a list of records, but we only have one, so take the 0 index\n",
    "            record = pymarc.marcxml.parse_xml_to_array(f)[0]\n",
    "\n",
    "            field = None\n",
    "            if '020' in record:\n",
    "                if 'a' in record['020']:\n",
    "                    \n",
    "                    i = record['020']['a']\n",
    "                    i = i.split(\"(\")[0].strip()\n",
    "                    d[isbn] = i\n",
    "\n",
    "    else:\n",
    "        #print(\"No MARC data to parse:\",d)\n",
    "        pass\n",
    "\n",
    "    return d"
   ]
  },
  {
   "cell_type": "code",
   "execution_count": 12,
   "metadata": {},
   "outputs": [],
   "source": [
    "# load the tsv\n",
    "df = pd.read_csv(path_to_tsv, sep='\\t', header=0, low_memory=False)\n",
    "df.drop(df.filter(regex=\"Unname\"),axis=1, inplace=True)\n",
    "\n",
    "# run our function over all of them\n",
    "df = df.apply(lambda d: add_auth_name(d),axis=1 )  \n",
    "# # overwrite back out\n",
    "df.to_csv(path_to_tsv, sep='\\t')\n",
    "\n"
   ]
  }
 ],
 "metadata": {
  "kernelspec": {
   "display_name": "Python 3",
   "language": "python",
   "name": "python3"
  },
  "language_info": {
   "codemirror_mode": {
    "name": "ipython",
    "version": 3
   },
   "file_extension": ".py",
   "mimetype": "text/x-python",
   "name": "python",
   "nbconvert_exporter": "python",
   "pygments_lexer": "ipython3",
   "version": "3.9.6"
  },
  "orig_nbformat": 4
 },
 "nbformat": 4,
 "nbformat_minor": 2
}
