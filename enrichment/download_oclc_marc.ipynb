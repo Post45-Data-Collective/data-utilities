{
 "cells": [
  {
   "attachments": {},
   "cell_type": "markdown",
   "metadata": {},
   "source": [
    "# OCLC Download MARC\n",
    "\n",
    "This script adds the MARC xml blob from the OCLC API to a TSV file, it is a preparatory script to run other scripts to extract metadata from the MARC data. \n",
    "\n",
    "It is a requirement that you have either the OCLC number in the data \n",
    "\n",
    "This script modifies the TSV file itself in batches, should the script timeout or other error you can rerun it and it will pickup where it left off, always run it on a backup of your orginal data files.\n",
    "\n",
    "It creates a new column in the file `oclc_marc` which holds the MARC XML "
   ]
  },
  {
   "cell_type": "code",
   "execution_count": null,
   "metadata": {},
   "outputs": [],
   "source": [
    "import pandas as pd\n",
    "import requests\n",
    "import time\n"
   ]
  },
  {
   "attachments": {},
   "cell_type": "markdown",
   "metadata": {},
   "source": [
    "## Config\n",
    "Set these variables below based on your setup\n",
    "\n",
    "`path_to_tsv` - the path to the TSV file you want to run it on\n",
    "\n",
    "`id_column_name` - the name of the column header that contains the oclc record id number\n",
    "\n",
    "`user_agent` - this is the value put into the headers on each request, it is good practice to identifiy your client/project when working with open free APIs\n",
    "\n",
    "`pause_between_req` - number of seconds to wait between each API call\n",
    "\n",
    "`WSKey` - the OCLC WSkey"
   ]
  },
  {
   "cell_type": "code",
   "execution_count": null,
   "metadata": {},
   "outputs": [],
   "source": [
    "path_to_tsv = \"/Users/m/Downloads/data-tmp/hathitrust_post45fiction_metadata.tsv\"\n",
    "id_column_name = \"oclc\"\n",
    "user_agent = 'YOUR PROJECT NAME HERE'\n",
    "pause_between_req = 1\n",
    "WSkey = \"YOUR OCLC WSKEY HERE\"\n"
   ]
  },
  {
   "cell_type": "code",
   "execution_count": null,
   "metadata": {},
   "outputs": [],
   "source": [
    "def add_oclc(d):\n",
    "\n",
    "\n",
    "\n",
    "    # if there is already a value skip it\n",
    "    if 'oclc_marc' in d:\n",
    "        if type(d['oclc_marc']) == str:        \n",
    "            print('Skip',d[id_column_name])\n",
    "            return d\n",
    "\n",
    "    # if you want to add any logic to only download some records add it here\n",
    "    if type(d['author_lccn']) == str:\n",
    "        print('Skip',d[id_column_name])\n",
    "        return d\n",
    "\n",
    "    try:\n",
    "        int(d[id_column_name])\n",
    "    except:\n",
    "        print(\"Cannot convert to int\",d[id_column_name])\n",
    "        return d\n",
    "    \n",
    "    url = f\"https://www.worldcat.org/webservices/catalog/content/{int(d[id_column_name])}?wskey={WSkey}\"\n",
    "    \n",
    "    r = requests.get(url, headers={'Accept': 'application/json', 'User-Agent': user_agent})\n",
    "    \n",
    "    if '<leader>' not in r.text:\n",
    "        print(\"No OCLC record XML:\",d[id_column_name])\n",
    "        return d\n",
    "    \n",
    "    d['oclc_marc'] = r.text\n",
    "\n",
    "    time.sleep(pause_between_req)\n",
    "\n",
    "    return d"
   ]
  },
  {
   "cell_type": "code",
   "execution_count": null,
   "metadata": {},
   "outputs": [],
   "source": [
    "# load the tsv\n",
    "df = pd.read_csv(path_to_tsv, sep='\\t', header=0, low_memory=False)\n",
    "\n",
    "# we are going to split the dataframe into chunks so we can save our progress as we go but don't want to save the entire file on on every record operation\n",
    "n = 100  #chunk row size\n",
    "list_df = [df[i:i+n] for i in range(0,df.shape[0],n)]\n",
    "\n",
    "# loop through each chunk\n",
    "for idx, df_chunk in enumerate(list_df):\n",
    "\n",
    "    # if you want it to skip X number of chunks uncomment this, the number is the row to skip to\n",
    "    if idx < 537:\n",
    "        continue\n",
    "\n",
    "    print(\"Working on chunk \", idx, 'of', len(list_df))\n",
    "    list_df[idx] = list_df[idx].apply(lambda d: add_oclc(d),axis=1 )  \n",
    "\n",
    "    reformed_df = pd.concat(list_df)\n",
    "    reformed_df.to_csv(path_to_tsv, sep='\\t')\n",
    "\n",
    "\n"
   ]
  }
 ],
 "metadata": {
  "kernelspec": {
   "display_name": "Python 3",
   "language": "python",
   "name": "python3"
  },
  "language_info": {
   "codemirror_mode": {
    "name": "ipython",
    "version": 3
   },
   "file_extension": ".py",
   "mimetype": "text/x-python",
   "name": "python",
   "nbconvert_exporter": "python",
   "pygments_lexer": "ipython3",
   "version": "3.9.6"
  },
  "orig_nbformat": 4,
  "vscode": {
   "interpreter": {
    "hash": "31f2aee4e71d21fbe5cf8b01ff0e069b9275f58929596ceb00d14d90e3e16cd6"
   }
  }
 },
 "nbformat": 4,
 "nbformat_minor": 2
}
